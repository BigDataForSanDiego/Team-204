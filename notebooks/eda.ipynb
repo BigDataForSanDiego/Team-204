{
 "cells": [
  {
   "cell_type": "markdown",
   "metadata": {},
   "source": [
    "https://www.python-engineer.com/posts/apple-health-data-python/"
   ]
  },
  {
   "cell_type": "code",
   "execution_count": 1,
   "metadata": {},
   "outputs": [],
   "source": [
    "import xml.etree.ElementTree as ET\n",
    "import pandas as pd\n",
    "import datetime as dt\n",
    "import matplotlib.pyplot as plt\n",
    "import plotly.express as px"
   ]
  },
  {
   "cell_type": "code",
   "execution_count": 2,
   "metadata": {},
   "outputs": [],
   "source": [
    "plt.style.use(\"fivethirtyeight\")\n",
    "\n",
    "# create element tree object\n",
    "tree = ET.parse('data/Export.xml') \n",
    "# for every health record, extract the attributes\n",
    "root = tree.getroot()\n",
    "record_list = [x.attrib for x in root.iter('Record')]"
   ]
  },
  {
   "cell_type": "code",
   "execution_count": 3,
   "metadata": {},
   "outputs": [
    {
     "data": {
      "text/html": [
       "<div>\n",
       "<style scoped>\n",
       "    .dataframe tbody tr th:only-of-type {\n",
       "        vertical-align: middle;\n",
       "    }\n",
       "\n",
       "    .dataframe tbody tr th {\n",
       "        vertical-align: top;\n",
       "    }\n",
       "\n",
       "    .dataframe thead th {\n",
       "        text-align: right;\n",
       "    }\n",
       "</style>\n",
       "<table border=\"1\" class=\"dataframe\">\n",
       "  <thead>\n",
       "    <tr style=\"text-align: right;\">\n",
       "      <th></th>\n",
       "      <th>type</th>\n",
       "      <th>sourceName</th>\n",
       "      <th>sourceVersion</th>\n",
       "      <th>unit</th>\n",
       "      <th>creationDate</th>\n",
       "      <th>startDate</th>\n",
       "      <th>endDate</th>\n",
       "      <th>value</th>\n",
       "      <th>device</th>\n",
       "    </tr>\n",
       "  </thead>\n",
       "  <tbody>\n",
       "    <tr>\n",
       "      <th>2584192</th>\n",
       "      <td>HeartRateVariabilitySDNN</td>\n",
       "      <td>Carter’s Apple Watch</td>\n",
       "      <td>11.1</td>\n",
       "      <td>ms</td>\n",
       "      <td>2024-10-14 23:41:23-07:00</td>\n",
       "      <td>2024-10-14 23:40:22-07:00</td>\n",
       "      <td>2024-10-14 23:41:22-07:00</td>\n",
       "      <td>43.1274</td>\n",
       "      <td>&lt;&lt;HKDevice: 0x302fcbc50&gt;, name:Apple Watch, ma...</td>\n",
       "    </tr>\n",
       "    <tr>\n",
       "      <th>2584193</th>\n",
       "      <td>HeartRateVariabilitySDNN</td>\n",
       "      <td>Carter’s Apple Watch</td>\n",
       "      <td>11.1</td>\n",
       "      <td>ms</td>\n",
       "      <td>2024-10-15 03:20:06-07:00</td>\n",
       "      <td>2024-10-15 03:19:06-07:00</td>\n",
       "      <td>2024-10-15 03:20:05-07:00</td>\n",
       "      <td>17.9547</td>\n",
       "      <td>&lt;&lt;HKDevice: 0x302fcbc50&gt;, name:Apple Watch, ma...</td>\n",
       "    </tr>\n",
       "    <tr>\n",
       "      <th>2584194</th>\n",
       "      <td>HeartRateVariabilitySDNN</td>\n",
       "      <td>Carter’s Apple Watch</td>\n",
       "      <td>11.1</td>\n",
       "      <td>ms</td>\n",
       "      <td>2024-10-15 07:20:09-07:00</td>\n",
       "      <td>2024-10-15 07:19:08-07:00</td>\n",
       "      <td>2024-10-15 07:20:07-07:00</td>\n",
       "      <td>29.6792</td>\n",
       "      <td>&lt;&lt;HKDevice: 0x302fcbc50&gt;, name:Apple Watch, ma...</td>\n",
       "    </tr>\n",
       "    <tr>\n",
       "      <th>2584195</th>\n",
       "      <td>HeartRateVariabilitySDNN</td>\n",
       "      <td>Carter’s Apple Watch</td>\n",
       "      <td>11.1</td>\n",
       "      <td>ms</td>\n",
       "      <td>2024-10-15 11:23:25-07:00</td>\n",
       "      <td>2024-10-15 11:22:24-07:00</td>\n",
       "      <td>2024-10-15 11:23:24-07:00</td>\n",
       "      <td>49.3019</td>\n",
       "      <td>&lt;&lt;HKDevice: 0x302fcbc50&gt;, name:Apple Watch, ma...</td>\n",
       "    </tr>\n",
       "    <tr>\n",
       "      <th>2584196</th>\n",
       "      <td>HeartRateVariabilitySDNN</td>\n",
       "      <td>Carter’s Apple Watch</td>\n",
       "      <td>11.1</td>\n",
       "      <td>ms</td>\n",
       "      <td>2024-10-15 15:24:30-07:00</td>\n",
       "      <td>2024-10-15 15:23:29-07:00</td>\n",
       "      <td>2024-10-15 15:24:29-07:00</td>\n",
       "      <td>33.6185</td>\n",
       "      <td>&lt;&lt;HKDevice: 0x302fcbc50&gt;, name:Apple Watch, ma...</td>\n",
       "    </tr>\n",
       "  </tbody>\n",
       "</table>\n",
       "</div>"
      ],
      "text/plain": [
       "                             type            sourceName sourceVersion unit  \\\n",
       "2584192  HeartRateVariabilitySDNN  Carter’s Apple Watch          11.1   ms   \n",
       "2584193  HeartRateVariabilitySDNN  Carter’s Apple Watch          11.1   ms   \n",
       "2584194  HeartRateVariabilitySDNN  Carter’s Apple Watch          11.1   ms   \n",
       "2584195  HeartRateVariabilitySDNN  Carter’s Apple Watch          11.1   ms   \n",
       "2584196  HeartRateVariabilitySDNN  Carter’s Apple Watch          11.1   ms   \n",
       "\n",
       "                     creationDate                 startDate  \\\n",
       "2584192 2024-10-14 23:41:23-07:00 2024-10-14 23:40:22-07:00   \n",
       "2584193 2024-10-15 03:20:06-07:00 2024-10-15 03:19:06-07:00   \n",
       "2584194 2024-10-15 07:20:09-07:00 2024-10-15 07:19:08-07:00   \n",
       "2584195 2024-10-15 11:23:25-07:00 2024-10-15 11:22:24-07:00   \n",
       "2584196 2024-10-15 15:24:30-07:00 2024-10-15 15:23:29-07:00   \n",
       "\n",
       "                          endDate    value  \\\n",
       "2584192 2024-10-14 23:41:22-07:00  43.1274   \n",
       "2584193 2024-10-15 03:20:05-07:00  17.9547   \n",
       "2584194 2024-10-15 07:20:07-07:00  29.6792   \n",
       "2584195 2024-10-15 11:23:24-07:00  49.3019   \n",
       "2584196 2024-10-15 15:24:29-07:00  33.6185   \n",
       "\n",
       "                                                    device  \n",
       "2584192  <<HKDevice: 0x302fcbc50>, name:Apple Watch, ma...  \n",
       "2584193  <<HKDevice: 0x302fcbc50>, name:Apple Watch, ma...  \n",
       "2584194  <<HKDevice: 0x302fcbc50>, name:Apple Watch, ma...  \n",
       "2584195  <<HKDevice: 0x302fcbc50>, name:Apple Watch, ma...  \n",
       "2584196  <<HKDevice: 0x302fcbc50>, name:Apple Watch, ma...  "
      ]
     },
     "execution_count": 3,
     "metadata": {},
     "output_type": "execute_result"
    }
   ],
   "source": [
    "record_data = pd.DataFrame(record_list)\n",
    "\n",
    "# proper type to dates\n",
    "for col in ['creationDate', 'startDate', 'endDate']:\n",
    "    record_data[col] = pd.to_datetime(record_data[col])\n",
    "\n",
    "# value is numeric, NaN if fails\n",
    "record_data['value'] = pd.to_numeric(record_data['value'], errors='coerce')\n",
    "\n",
    "# some records do not measure anything, just count occurences\n",
    "# filling with 1.0 (= one time) makes it easier to aggregate\n",
    "record_data['value'] = record_data['value'].fillna(1.0)\n",
    "\n",
    "# shorter observation names\n",
    "record_data['type'] = record_data['type'].str.replace('HKQuantityTypeIdentifier', '')\n",
    "record_data['type'] = record_data['type'].str.replace('HKCategoryTypeIdentifier', '')\n",
    "record_data.tail()"
   ]
  },
  {
   "cell_type": "code",
   "execution_count": 4,
   "metadata": {},
   "outputs": [
    {
     "data": {
      "text/plain": [
       "array(['Height', 'BodyMass', 'HeartRate', 'OxygenSaturation',\n",
       "       'RespiratoryRate', 'StepCount', 'DistanceWalkingRunning',\n",
       "       'BasalEnergyBurned', 'ActiveEnergyBurned', 'FlightsClimbed',\n",
       "       'DietaryFatTotal', 'DietaryFatPolyunsaturated',\n",
       "       'DietaryFatMonounsaturated', 'DietaryFatSaturated',\n",
       "       'DietaryCholesterol', 'DietarySodium', 'DietaryCarbohydrates',\n",
       "       'DietaryFiber', 'DietarySugar', 'DietaryEnergyConsumed',\n",
       "       'DietaryProtein', 'DietaryVitaminC', 'DietaryCalcium',\n",
       "       'DietaryIron', 'DietaryPotassium', 'AppleExerciseTime',\n",
       "       'DietaryCaffeine', 'DistanceCycling', 'RestingHeartRate', 'VO2Max',\n",
       "       'WalkingHeartRateAverage', 'EnvironmentalAudioExposure',\n",
       "       'HeadphoneAudioExposure', 'WalkingDoubleSupportPercentage',\n",
       "       'SixMinuteWalkTestDistance', 'AppleStandTime', 'WalkingSpeed',\n",
       "       'WalkingStepLength', 'WalkingAsymmetryPercentage',\n",
       "       'StairAscentSpeed', 'StairDescentSpeed',\n",
       "       'HKDataTypeSleepDurationGoal', 'AppleWalkingSteadiness',\n",
       "       'AppleSleepingWristTemperature', 'HeartRateRecoveryOneMinute',\n",
       "       'UnderwaterDepth', 'EnvironmentalSoundReduction',\n",
       "       'WaterTemperature', 'TimeInDaylight', 'PhysicalEffort',\n",
       "       'SleepAnalysis', 'AppleStandHour', 'MindfulSession',\n",
       "       'AudioExposureEvent', 'HeadphoneAudioExposureEvent',\n",
       "       'HandwashingEvent', 'HeartRateVariabilitySDNN'], dtype=object)"
      ]
     },
     "execution_count": 4,
     "metadata": {},
     "output_type": "execute_result"
    }
   ],
   "source": [
    "record_data['type'].unique()"
   ]
  },
  {
   "cell_type": "code",
   "execution_count": 5,
   "metadata": {},
   "outputs": [
    {
     "data": {
      "text/html": [
       "<div>\n",
       "<style scoped>\n",
       "    .dataframe tbody tr th:only-of-type {\n",
       "        vertical-align: middle;\n",
       "    }\n",
       "\n",
       "    .dataframe tbody tr th {\n",
       "        vertical-align: top;\n",
       "    }\n",
       "\n",
       "    .dataframe thead th {\n",
       "        text-align: right;\n",
       "    }\n",
       "</style>\n",
       "<table border=\"1\" class=\"dataframe\">\n",
       "  <thead>\n",
       "    <tr style=\"text-align: right;\">\n",
       "      <th></th>\n",
       "      <th>type</th>\n",
       "      <th>sourceName</th>\n",
       "      <th>sourceVersion</th>\n",
       "      <th>unit</th>\n",
       "      <th>creationDate</th>\n",
       "      <th>startDate</th>\n",
       "      <th>endDate</th>\n",
       "      <th>value</th>\n",
       "      <th>device</th>\n",
       "    </tr>\n",
       "  </thead>\n",
       "  <tbody>\n",
       "    <tr>\n",
       "      <th>1154868</th>\n",
       "      <td>ActiveEnergyBurned</td>\n",
       "      <td>Carter’s Apple Watch</td>\n",
       "      <td>4.3</td>\n",
       "      <td>Cal</td>\n",
       "      <td>2018-08-15 01:43:19-07:00</td>\n",
       "      <td>2018-08-15 00:41:01-07:00</td>\n",
       "      <td>2018-08-15 01:41:02-07:00</td>\n",
       "      <td>0.177</td>\n",
       "      <td>&lt;&lt;HKDevice: 0x302f47340&gt;, name:Apple Watch, ma...</td>\n",
       "    </tr>\n",
       "    <tr>\n",
       "      <th>1154869</th>\n",
       "      <td>ActiveEnergyBurned</td>\n",
       "      <td>Carter’s Apple Watch</td>\n",
       "      <td>4.3</td>\n",
       "      <td>Cal</td>\n",
       "      <td>2018-08-15 06:03:09-07:00</td>\n",
       "      <td>2018-08-15 06:01:32-07:00</td>\n",
       "      <td>2018-08-15 06:02:35-07:00</td>\n",
       "      <td>0.086</td>\n",
       "      <td>&lt;&lt;HKDevice: 0x302f47340&gt;, name:Apple Watch, ma...</td>\n",
       "    </tr>\n",
       "    <tr>\n",
       "      <th>1154870</th>\n",
       "      <td>ActiveEnergyBurned</td>\n",
       "      <td>Carter’s Apple Watch</td>\n",
       "      <td>4.3</td>\n",
       "      <td>Cal</td>\n",
       "      <td>2018-08-15 06:04:19-07:00</td>\n",
       "      <td>2018-08-15 06:02:35-07:00</td>\n",
       "      <td>2018-08-15 06:03:36-07:00</td>\n",
       "      <td>0.317</td>\n",
       "      <td>&lt;&lt;HKDevice: 0x302f47340&gt;, name:Apple Watch, ma...</td>\n",
       "    </tr>\n",
       "    <tr>\n",
       "      <th>1154871</th>\n",
       "      <td>ActiveEnergyBurned</td>\n",
       "      <td>Carter’s Apple Watch</td>\n",
       "      <td>4.3</td>\n",
       "      <td>Cal</td>\n",
       "      <td>2018-08-15 06:05:35-07:00</td>\n",
       "      <td>2018-08-15 06:03:36-07:00</td>\n",
       "      <td>2018-08-15 06:04:39-07:00</td>\n",
       "      <td>0.170</td>\n",
       "      <td>&lt;&lt;HKDevice: 0x302f47340&gt;, name:Apple Watch, ma...</td>\n",
       "    </tr>\n",
       "    <tr>\n",
       "      <th>1154872</th>\n",
       "      <td>ActiveEnergyBurned</td>\n",
       "      <td>Carter’s Apple Watch</td>\n",
       "      <td>4.3</td>\n",
       "      <td>Cal</td>\n",
       "      <td>2018-08-15 06:06:41-07:00</td>\n",
       "      <td>2018-08-15 06:04:39-07:00</td>\n",
       "      <td>2018-08-15 06:05:41-07:00</td>\n",
       "      <td>0.158</td>\n",
       "      <td>&lt;&lt;HKDevice: 0x302f47340&gt;, name:Apple Watch, ma...</td>\n",
       "    </tr>\n",
       "  </tbody>\n",
       "</table>\n",
       "</div>"
      ],
      "text/plain": [
       "                       type            sourceName sourceVersion unit  \\\n",
       "1154868  ActiveEnergyBurned  Carter’s Apple Watch           4.3  Cal   \n",
       "1154869  ActiveEnergyBurned  Carter’s Apple Watch           4.3  Cal   \n",
       "1154870  ActiveEnergyBurned  Carter’s Apple Watch           4.3  Cal   \n",
       "1154871  ActiveEnergyBurned  Carter’s Apple Watch           4.3  Cal   \n",
       "1154872  ActiveEnergyBurned  Carter’s Apple Watch           4.3  Cal   \n",
       "\n",
       "                     creationDate                 startDate  \\\n",
       "1154868 2018-08-15 01:43:19-07:00 2018-08-15 00:41:01-07:00   \n",
       "1154869 2018-08-15 06:03:09-07:00 2018-08-15 06:01:32-07:00   \n",
       "1154870 2018-08-15 06:04:19-07:00 2018-08-15 06:02:35-07:00   \n",
       "1154871 2018-08-15 06:05:35-07:00 2018-08-15 06:03:36-07:00   \n",
       "1154872 2018-08-15 06:06:41-07:00 2018-08-15 06:04:39-07:00   \n",
       "\n",
       "                          endDate  value  \\\n",
       "1154868 2018-08-15 01:41:02-07:00  0.177   \n",
       "1154869 2018-08-15 06:02:35-07:00  0.086   \n",
       "1154870 2018-08-15 06:03:36-07:00  0.317   \n",
       "1154871 2018-08-15 06:04:39-07:00  0.170   \n",
       "1154872 2018-08-15 06:05:41-07:00  0.158   \n",
       "\n",
       "                                                    device  \n",
       "1154868  <<HKDevice: 0x302f47340>, name:Apple Watch, ma...  \n",
       "1154869  <<HKDevice: 0x302f47340>, name:Apple Watch, ma...  \n",
       "1154870  <<HKDevice: 0x302f47340>, name:Apple Watch, ma...  \n",
       "1154871  <<HKDevice: 0x302f47340>, name:Apple Watch, ma...  \n",
       "1154872  <<HKDevice: 0x302f47340>, name:Apple Watch, ma...  "
      ]
     },
     "execution_count": 5,
     "metadata": {},
     "output_type": "execute_result"
    }
   ],
   "source": [
    "energy_burned = record_data[record_data['type'] == 'ActiveEnergyBurned']\n",
    "energy_burned.head()"
   ]
  },
  {
   "cell_type": "code",
   "execution_count": 90,
   "metadata": {},
   "outputs": [
    {
     "data": {
      "text/html": [
       "<div>\n",
       "<style scoped>\n",
       "    .dataframe tbody tr th:only-of-type {\n",
       "        vertical-align: middle;\n",
       "    }\n",
       "\n",
       "    .dataframe tbody tr th {\n",
       "        vertical-align: top;\n",
       "    }\n",
       "\n",
       "    .dataframe thead th {\n",
       "        text-align: right;\n",
       "    }\n",
       "</style>\n",
       "<table border=\"1\" class=\"dataframe\">\n",
       "  <thead>\n",
       "    <tr style=\"text-align: right;\">\n",
       "      <th></th>\n",
       "      <th>value</th>\n",
       "    </tr>\n",
       "    <tr>\n",
       "      <th>startDate</th>\n",
       "      <th></th>\n",
       "    </tr>\n",
       "  </thead>\n",
       "  <tbody>\n",
       "    <tr>\n",
       "      <th>2023-09-01 00:00:00-07:00</th>\n",
       "      <td>307.555</td>\n",
       "    </tr>\n",
       "    <tr>\n",
       "      <th>2023-09-02 00:00:00-07:00</th>\n",
       "      <td>286.974</td>\n",
       "    </tr>\n",
       "    <tr>\n",
       "      <th>2023-09-03 00:00:00-07:00</th>\n",
       "      <td>293.904</td>\n",
       "    </tr>\n",
       "    <tr>\n",
       "      <th>2023-09-04 00:00:00-07:00</th>\n",
       "      <td>139.895</td>\n",
       "    </tr>\n",
       "    <tr>\n",
       "      <th>2023-09-05 00:00:00-07:00</th>\n",
       "      <td>254.960</td>\n",
       "    </tr>\n",
       "    <tr>\n",
       "      <th>...</th>\n",
       "      <td>...</td>\n",
       "    </tr>\n",
       "    <tr>\n",
       "      <th>2023-12-27 00:00:00-07:00</th>\n",
       "      <td>336.140</td>\n",
       "    </tr>\n",
       "    <tr>\n",
       "      <th>2023-12-28 00:00:00-07:00</th>\n",
       "      <td>329.503</td>\n",
       "    </tr>\n",
       "    <tr>\n",
       "      <th>2023-12-29 00:00:00-07:00</th>\n",
       "      <td>374.458</td>\n",
       "    </tr>\n",
       "    <tr>\n",
       "      <th>2023-12-30 00:00:00-07:00</th>\n",
       "      <td>358.903</td>\n",
       "    </tr>\n",
       "    <tr>\n",
       "      <th>2023-12-31 00:00:00-07:00</th>\n",
       "      <td>369.025</td>\n",
       "    </tr>\n",
       "  </tbody>\n",
       "</table>\n",
       "<p>122 rows × 1 columns</p>\n",
       "</div>"
      ],
      "text/plain": [
       "                             value\n",
       "startDate                         \n",
       "2023-09-01 00:00:00-07:00  307.555\n",
       "2023-09-02 00:00:00-07:00  286.974\n",
       "2023-09-03 00:00:00-07:00  293.904\n",
       "2023-09-04 00:00:00-07:00  139.895\n",
       "2023-09-05 00:00:00-07:00  254.960\n",
       "...                            ...\n",
       "2023-12-27 00:00:00-07:00  336.140\n",
       "2023-12-28 00:00:00-07:00  329.503\n",
       "2023-12-29 00:00:00-07:00  374.458\n",
       "2023-12-30 00:00:00-07:00  358.903\n",
       "2023-12-31 00:00:00-07:00  369.025\n",
       "\n",
       "[122 rows x 1 columns]"
      ]
     },
     "execution_count": 90,
     "metadata": {},
     "output_type": "execute_result"
    }
   ],
   "source": [
    "# Filter rows for the second half of 2023\n",
    "df = (energy_burned[(energy_burned['startDate'].dt.year == 2023) & \n",
    "                    (energy_burned['startDate'].dt.month >= 9)]\n",
    "      .set_index('startDate')\n",
    "      ['value']\n",
    "      .to_frame()\n",
    "      .resample('1D')\n",
    "      .sum()\n",
    "      )\n",
    "df"
   ]
  },
  {
   "cell_type": "code",
   "execution_count": 91,
   "metadata": {},
   "outputs": [
    {
     "data": {
      "application/vnd.plotly.v1+json": {
       "config": {
        "plotlyServerURL": "https://plot.ly"
       },
       "data": [
        {
         "hovertemplate": "startDate=%{x}<br>value=%{y}<extra></extra>",
         "legendgroup": "",
         "line": {
          "color": "#636efa",
          "dash": "solid"
         },
         "marker": {
          "symbol": "circle"
         },
         "mode": "lines",
         "name": "",
         "orientation": "v",
         "showlegend": false,
         "type": "scatter",
         "x": [
          "2023-09-01T00:00:00-07:00",
          "2023-09-02T00:00:00-07:00",
          "2023-09-03T00:00:00-07:00",
          "2023-09-04T00:00:00-07:00",
          "2023-09-05T00:00:00-07:00",
          "2023-09-06T00:00:00-07:00",
          "2023-09-07T00:00:00-07:00",
          "2023-09-08T00:00:00-07:00",
          "2023-09-09T00:00:00-07:00",
          "2023-09-10T00:00:00-07:00",
          "2023-09-11T00:00:00-07:00",
          "2023-09-12T00:00:00-07:00",
          "2023-09-13T00:00:00-07:00",
          "2023-09-14T00:00:00-07:00",
          "2023-09-15T00:00:00-07:00",
          "2023-09-16T00:00:00-07:00",
          "2023-09-17T00:00:00-07:00",
          "2023-09-18T00:00:00-07:00",
          "2023-09-19T00:00:00-07:00",
          "2023-09-20T00:00:00-07:00",
          "2023-09-21T00:00:00-07:00",
          "2023-09-22T00:00:00-07:00",
          "2023-09-23T00:00:00-07:00",
          "2023-09-24T00:00:00-07:00",
          "2023-09-25T00:00:00-07:00",
          "2023-09-26T00:00:00-07:00",
          "2023-09-27T00:00:00-07:00",
          "2023-09-28T00:00:00-07:00",
          "2023-09-29T00:00:00-07:00",
          "2023-09-30T00:00:00-07:00",
          "2023-10-01T00:00:00-07:00",
          "2023-10-02T00:00:00-07:00",
          "2023-10-03T00:00:00-07:00",
          "2023-10-04T00:00:00-07:00",
          "2023-10-05T00:00:00-07:00",
          "2023-10-06T00:00:00-07:00",
          "2023-10-07T00:00:00-07:00",
          "2023-10-08T00:00:00-07:00",
          "2023-10-09T00:00:00-07:00",
          "2023-10-10T00:00:00-07:00",
          "2023-10-11T00:00:00-07:00",
          "2023-10-12T00:00:00-07:00",
          "2023-10-13T00:00:00-07:00",
          "2023-10-14T00:00:00-07:00",
          "2023-10-15T00:00:00-07:00",
          "2023-10-16T00:00:00-07:00",
          "2023-10-17T00:00:00-07:00",
          "2023-10-18T00:00:00-07:00",
          "2023-10-19T00:00:00-07:00",
          "2023-10-20T00:00:00-07:00",
          "2023-10-21T00:00:00-07:00",
          "2023-10-22T00:00:00-07:00",
          "2023-10-23T00:00:00-07:00",
          "2023-10-24T00:00:00-07:00",
          "2023-10-25T00:00:00-07:00",
          "2023-10-26T00:00:00-07:00",
          "2023-10-27T00:00:00-07:00",
          "2023-10-28T00:00:00-07:00",
          "2023-10-29T00:00:00-07:00",
          "2023-10-30T00:00:00-07:00",
          "2023-10-31T00:00:00-07:00",
          "2023-11-01T00:00:00-07:00",
          "2023-11-02T00:00:00-07:00",
          "2023-11-03T00:00:00-07:00",
          "2023-11-04T00:00:00-07:00",
          "2023-11-05T00:00:00-07:00",
          "2023-11-06T00:00:00-07:00",
          "2023-11-07T00:00:00-07:00",
          "2023-11-08T00:00:00-07:00",
          "2023-11-09T00:00:00-07:00",
          "2023-11-10T00:00:00-07:00",
          "2023-11-11T00:00:00-07:00",
          "2023-11-12T00:00:00-07:00",
          "2023-11-13T00:00:00-07:00",
          "2023-11-14T00:00:00-07:00",
          "2023-11-15T00:00:00-07:00",
          "2023-11-16T00:00:00-07:00",
          "2023-11-17T00:00:00-07:00",
          "2023-11-18T00:00:00-07:00",
          "2023-11-19T00:00:00-07:00",
          "2023-11-20T00:00:00-07:00",
          "2023-11-21T00:00:00-07:00",
          "2023-11-22T00:00:00-07:00",
          "2023-11-23T00:00:00-07:00",
          "2023-11-24T00:00:00-07:00",
          "2023-11-25T00:00:00-07:00",
          "2023-11-26T00:00:00-07:00",
          "2023-11-27T00:00:00-07:00",
          "2023-11-28T00:00:00-07:00",
          "2023-11-29T00:00:00-07:00",
          "2023-11-30T00:00:00-07:00",
          "2023-12-01T00:00:00-07:00",
          "2023-12-02T00:00:00-07:00",
          "2023-12-03T00:00:00-07:00",
          "2023-12-04T00:00:00-07:00",
          "2023-12-05T00:00:00-07:00",
          "2023-12-06T00:00:00-07:00",
          "2023-12-07T00:00:00-07:00",
          "2023-12-08T00:00:00-07:00",
          "2023-12-09T00:00:00-07:00",
          "2023-12-10T00:00:00-07:00",
          "2023-12-11T00:00:00-07:00",
          "2023-12-12T00:00:00-07:00",
          "2023-12-13T00:00:00-07:00",
          "2023-12-14T00:00:00-07:00",
          "2023-12-15T00:00:00-07:00",
          "2023-12-16T00:00:00-07:00",
          "2023-12-17T00:00:00-07:00",
          "2023-12-18T00:00:00-07:00",
          "2023-12-19T00:00:00-07:00",
          "2023-12-20T00:00:00-07:00",
          "2023-12-21T00:00:00-07:00",
          "2023-12-22T00:00:00-07:00",
          "2023-12-23T00:00:00-07:00",
          "2023-12-24T00:00:00-07:00",
          "2023-12-25T00:00:00-07:00",
          "2023-12-26T00:00:00-07:00",
          "2023-12-27T00:00:00-07:00",
          "2023-12-28T00:00:00-07:00",
          "2023-12-29T00:00:00-07:00",
          "2023-12-30T00:00:00-07:00",
          "2023-12-31T00:00:00-07:00"
         ],
         "xaxis": "x",
         "y": [
          307.555,
          286.974,
          293.904,
          139.895,
          254.96,
          189.465,
          242.338,
          234.665,
          302.787,
          294.615,
          174.433,
          152.994,
          272.29,
          278.888,
          247.423,
          245.879,
          431.355,
          259.183,
          268.269,
          756.747,
          980.274,
          822.788,
          773.386,
          787.484,
          648.953,
          647.561,
          550.228,
          583.499,
          762.514,
          491.995,
          387.94,
          918.294,
          667.269,
          850.624,
          828.46,
          576.342,
          680.318,
          461.957,
          807.33,
          520.769,
          561.075,
          584.395,
          663.385,
          445.075,
          362.326,
          591.186,
          1513.845,
          530.063,
          644.841,
          214.232,
          801.087,
          775.839,
          588.658,
          649.611,
          742.857,
          395.726,
          505.124,
          465.144,
          494.212,
          620.648,
          468.213,
          315.333,
          492.711,
          251.273,
          462.502,
          270.808,
          560.394,
          619.841,
          553.0120000000001,
          416.535,
          315.56,
          411.828,
          209.669,
          693.291,
          739.57,
          238.261,
          545.515,
          421.284,
          510.261,
          367.187,
          519.431,
          896.145,
          299.865,
          135.936,
          0,
          0,
          81.326,
          332.055,
          723.693,
          469.207,
          291.177,
          314.128,
          394.28,
          402.897,
          614.033,
          446.871,
          532.109,
          626.796,
          180.512,
          233.295,
          271.816,
          411.324,
          253.166,
          210.161,
          458.643,
          192.534,
          442.713,
          61.686,
          0,
          0,
          0,
          298.92,
          275.125,
          356.393,
          318.343,
          173.125,
          365.609,
          336.14,
          329.503,
          374.45799999999997,
          358.903,
          369.025
         ],
         "yaxis": "y"
        }
       ],
       "layout": {
        "legend": {
         "tracegroupgap": 0
        },
        "showlegend": false,
        "template": {
         "data": {
          "bar": [
           {
            "error_x": {
             "color": "#2a3f5f"
            },
            "error_y": {
             "color": "#2a3f5f"
            },
            "marker": {
             "line": {
              "color": "#E5ECF6",
              "width": 0.5
             },
             "pattern": {
              "fillmode": "overlay",
              "size": 10,
              "solidity": 0.2
             }
            },
            "type": "bar"
           }
          ],
          "barpolar": [
           {
            "marker": {
             "line": {
              "color": "#E5ECF6",
              "width": 0.5
             },
             "pattern": {
              "fillmode": "overlay",
              "size": 10,
              "solidity": 0.2
             }
            },
            "type": "barpolar"
           }
          ],
          "carpet": [
           {
            "aaxis": {
             "endlinecolor": "#2a3f5f",
             "gridcolor": "white",
             "linecolor": "white",
             "minorgridcolor": "white",
             "startlinecolor": "#2a3f5f"
            },
            "baxis": {
             "endlinecolor": "#2a3f5f",
             "gridcolor": "white",
             "linecolor": "white",
             "minorgridcolor": "white",
             "startlinecolor": "#2a3f5f"
            },
            "type": "carpet"
           }
          ],
          "choropleth": [
           {
            "colorbar": {
             "outlinewidth": 0,
             "ticks": ""
            },
            "type": "choropleth"
           }
          ],
          "contour": [
           {
            "colorbar": {
             "outlinewidth": 0,
             "ticks": ""
            },
            "colorscale": [
             [
              0,
              "#0d0887"
             ],
             [
              0.1111111111111111,
              "#46039f"
             ],
             [
              0.2222222222222222,
              "#7201a8"
             ],
             [
              0.3333333333333333,
              "#9c179e"
             ],
             [
              0.4444444444444444,
              "#bd3786"
             ],
             [
              0.5555555555555556,
              "#d8576b"
             ],
             [
              0.6666666666666666,
              "#ed7953"
             ],
             [
              0.7777777777777778,
              "#fb9f3a"
             ],
             [
              0.8888888888888888,
              "#fdca26"
             ],
             [
              1,
              "#f0f921"
             ]
            ],
            "type": "contour"
           }
          ],
          "contourcarpet": [
           {
            "colorbar": {
             "outlinewidth": 0,
             "ticks": ""
            },
            "type": "contourcarpet"
           }
          ],
          "heatmap": [
           {
            "colorbar": {
             "outlinewidth": 0,
             "ticks": ""
            },
            "colorscale": [
             [
              0,
              "#0d0887"
             ],
             [
              0.1111111111111111,
              "#46039f"
             ],
             [
              0.2222222222222222,
              "#7201a8"
             ],
             [
              0.3333333333333333,
              "#9c179e"
             ],
             [
              0.4444444444444444,
              "#bd3786"
             ],
             [
              0.5555555555555556,
              "#d8576b"
             ],
             [
              0.6666666666666666,
              "#ed7953"
             ],
             [
              0.7777777777777778,
              "#fb9f3a"
             ],
             [
              0.8888888888888888,
              "#fdca26"
             ],
             [
              1,
              "#f0f921"
             ]
            ],
            "type": "heatmap"
           }
          ],
          "heatmapgl": [
           {
            "colorbar": {
             "outlinewidth": 0,
             "ticks": ""
            },
            "colorscale": [
             [
              0,
              "#0d0887"
             ],
             [
              0.1111111111111111,
              "#46039f"
             ],
             [
              0.2222222222222222,
              "#7201a8"
             ],
             [
              0.3333333333333333,
              "#9c179e"
             ],
             [
              0.4444444444444444,
              "#bd3786"
             ],
             [
              0.5555555555555556,
              "#d8576b"
             ],
             [
              0.6666666666666666,
              "#ed7953"
             ],
             [
              0.7777777777777778,
              "#fb9f3a"
             ],
             [
              0.8888888888888888,
              "#fdca26"
             ],
             [
              1,
              "#f0f921"
             ]
            ],
            "type": "heatmapgl"
           }
          ],
          "histogram": [
           {
            "marker": {
             "pattern": {
              "fillmode": "overlay",
              "size": 10,
              "solidity": 0.2
             }
            },
            "type": "histogram"
           }
          ],
          "histogram2d": [
           {
            "colorbar": {
             "outlinewidth": 0,
             "ticks": ""
            },
            "colorscale": [
             [
              0,
              "#0d0887"
             ],
             [
              0.1111111111111111,
              "#46039f"
             ],
             [
              0.2222222222222222,
              "#7201a8"
             ],
             [
              0.3333333333333333,
              "#9c179e"
             ],
             [
              0.4444444444444444,
              "#bd3786"
             ],
             [
              0.5555555555555556,
              "#d8576b"
             ],
             [
              0.6666666666666666,
              "#ed7953"
             ],
             [
              0.7777777777777778,
              "#fb9f3a"
             ],
             [
              0.8888888888888888,
              "#fdca26"
             ],
             [
              1,
              "#f0f921"
             ]
            ],
            "type": "histogram2d"
           }
          ],
          "histogram2dcontour": [
           {
            "colorbar": {
             "outlinewidth": 0,
             "ticks": ""
            },
            "colorscale": [
             [
              0,
              "#0d0887"
             ],
             [
              0.1111111111111111,
              "#46039f"
             ],
             [
              0.2222222222222222,
              "#7201a8"
             ],
             [
              0.3333333333333333,
              "#9c179e"
             ],
             [
              0.4444444444444444,
              "#bd3786"
             ],
             [
              0.5555555555555556,
              "#d8576b"
             ],
             [
              0.6666666666666666,
              "#ed7953"
             ],
             [
              0.7777777777777778,
              "#fb9f3a"
             ],
             [
              0.8888888888888888,
              "#fdca26"
             ],
             [
              1,
              "#f0f921"
             ]
            ],
            "type": "histogram2dcontour"
           }
          ],
          "mesh3d": [
           {
            "colorbar": {
             "outlinewidth": 0,
             "ticks": ""
            },
            "type": "mesh3d"
           }
          ],
          "parcoords": [
           {
            "line": {
             "colorbar": {
              "outlinewidth": 0,
              "ticks": ""
             }
            },
            "type": "parcoords"
           }
          ],
          "pie": [
           {
            "automargin": true,
            "type": "pie"
           }
          ],
          "scatter": [
           {
            "fillpattern": {
             "fillmode": "overlay",
             "size": 10,
             "solidity": 0.2
            },
            "type": "scatter"
           }
          ],
          "scatter3d": [
           {
            "line": {
             "colorbar": {
              "outlinewidth": 0,
              "ticks": ""
             }
            },
            "marker": {
             "colorbar": {
              "outlinewidth": 0,
              "ticks": ""
             }
            },
            "type": "scatter3d"
           }
          ],
          "scattercarpet": [
           {
            "marker": {
             "colorbar": {
              "outlinewidth": 0,
              "ticks": ""
             }
            },
            "type": "scattercarpet"
           }
          ],
          "scattergeo": [
           {
            "marker": {
             "colorbar": {
              "outlinewidth": 0,
              "ticks": ""
             }
            },
            "type": "scattergeo"
           }
          ],
          "scattergl": [
           {
            "marker": {
             "colorbar": {
              "outlinewidth": 0,
              "ticks": ""
             }
            },
            "type": "scattergl"
           }
          ],
          "scattermapbox": [
           {
            "marker": {
             "colorbar": {
              "outlinewidth": 0,
              "ticks": ""
             }
            },
            "type": "scattermapbox"
           }
          ],
          "scatterpolar": [
           {
            "marker": {
             "colorbar": {
              "outlinewidth": 0,
              "ticks": ""
             }
            },
            "type": "scatterpolar"
           }
          ],
          "scatterpolargl": [
           {
            "marker": {
             "colorbar": {
              "outlinewidth": 0,
              "ticks": ""
             }
            },
            "type": "scatterpolargl"
           }
          ],
          "scatterternary": [
           {
            "marker": {
             "colorbar": {
              "outlinewidth": 0,
              "ticks": ""
             }
            },
            "type": "scatterternary"
           }
          ],
          "surface": [
           {
            "colorbar": {
             "outlinewidth": 0,
             "ticks": ""
            },
            "colorscale": [
             [
              0,
              "#0d0887"
             ],
             [
              0.1111111111111111,
              "#46039f"
             ],
             [
              0.2222222222222222,
              "#7201a8"
             ],
             [
              0.3333333333333333,
              "#9c179e"
             ],
             [
              0.4444444444444444,
              "#bd3786"
             ],
             [
              0.5555555555555556,
              "#d8576b"
             ],
             [
              0.6666666666666666,
              "#ed7953"
             ],
             [
              0.7777777777777778,
              "#fb9f3a"
             ],
             [
              0.8888888888888888,
              "#fdca26"
             ],
             [
              1,
              "#f0f921"
             ]
            ],
            "type": "surface"
           }
          ],
          "table": [
           {
            "cells": {
             "fill": {
              "color": "#EBF0F8"
             },
             "line": {
              "color": "white"
             }
            },
            "header": {
             "fill": {
              "color": "#C8D4E3"
             },
             "line": {
              "color": "white"
             }
            },
            "type": "table"
           }
          ]
         },
         "layout": {
          "annotationdefaults": {
           "arrowcolor": "#2a3f5f",
           "arrowhead": 0,
           "arrowwidth": 1
          },
          "autotypenumbers": "strict",
          "coloraxis": {
           "colorbar": {
            "outlinewidth": 0,
            "ticks": ""
           }
          },
          "colorscale": {
           "diverging": [
            [
             0,
             "#8e0152"
            ],
            [
             0.1,
             "#c51b7d"
            ],
            [
             0.2,
             "#de77ae"
            ],
            [
             0.3,
             "#f1b6da"
            ],
            [
             0.4,
             "#fde0ef"
            ],
            [
             0.5,
             "#f7f7f7"
            ],
            [
             0.6,
             "#e6f5d0"
            ],
            [
             0.7,
             "#b8e186"
            ],
            [
             0.8,
             "#7fbc41"
            ],
            [
             0.9,
             "#4d9221"
            ],
            [
             1,
             "#276419"
            ]
           ],
           "sequential": [
            [
             0,
             "#0d0887"
            ],
            [
             0.1111111111111111,
             "#46039f"
            ],
            [
             0.2222222222222222,
             "#7201a8"
            ],
            [
             0.3333333333333333,
             "#9c179e"
            ],
            [
             0.4444444444444444,
             "#bd3786"
            ],
            [
             0.5555555555555556,
             "#d8576b"
            ],
            [
             0.6666666666666666,
             "#ed7953"
            ],
            [
             0.7777777777777778,
             "#fb9f3a"
            ],
            [
             0.8888888888888888,
             "#fdca26"
            ],
            [
             1,
             "#f0f921"
            ]
           ],
           "sequentialminus": [
            [
             0,
             "#0d0887"
            ],
            [
             0.1111111111111111,
             "#46039f"
            ],
            [
             0.2222222222222222,
             "#7201a8"
            ],
            [
             0.3333333333333333,
             "#9c179e"
            ],
            [
             0.4444444444444444,
             "#bd3786"
            ],
            [
             0.5555555555555556,
             "#d8576b"
            ],
            [
             0.6666666666666666,
             "#ed7953"
            ],
            [
             0.7777777777777778,
             "#fb9f3a"
            ],
            [
             0.8888888888888888,
             "#fdca26"
            ],
            [
             1,
             "#f0f921"
            ]
           ]
          },
          "colorway": [
           "#636efa",
           "#EF553B",
           "#00cc96",
           "#ab63fa",
           "#FFA15A",
           "#19d3f3",
           "#FF6692",
           "#B6E880",
           "#FF97FF",
           "#FECB52"
          ],
          "font": {
           "color": "#2a3f5f"
          },
          "geo": {
           "bgcolor": "white",
           "lakecolor": "white",
           "landcolor": "#E5ECF6",
           "showlakes": true,
           "showland": true,
           "subunitcolor": "white"
          },
          "hoverlabel": {
           "align": "left"
          },
          "hovermode": "closest",
          "mapbox": {
           "style": "light"
          },
          "paper_bgcolor": "white",
          "plot_bgcolor": "#E5ECF6",
          "polar": {
           "angularaxis": {
            "gridcolor": "white",
            "linecolor": "white",
            "ticks": ""
           },
           "bgcolor": "#E5ECF6",
           "radialaxis": {
            "gridcolor": "white",
            "linecolor": "white",
            "ticks": ""
           }
          },
          "scene": {
           "xaxis": {
            "backgroundcolor": "#E5ECF6",
            "gridcolor": "white",
            "gridwidth": 2,
            "linecolor": "white",
            "showbackground": true,
            "ticks": "",
            "zerolinecolor": "white"
           },
           "yaxis": {
            "backgroundcolor": "#E5ECF6",
            "gridcolor": "white",
            "gridwidth": 2,
            "linecolor": "white",
            "showbackground": true,
            "ticks": "",
            "zerolinecolor": "white"
           },
           "zaxis": {
            "backgroundcolor": "#E5ECF6",
            "gridcolor": "white",
            "gridwidth": 2,
            "linecolor": "white",
            "showbackground": true,
            "ticks": "",
            "zerolinecolor": "white"
           }
          },
          "shapedefaults": {
           "line": {
            "color": "#2a3f5f"
           }
          },
          "ternary": {
           "aaxis": {
            "gridcolor": "white",
            "linecolor": "white",
            "ticks": ""
           },
           "baxis": {
            "gridcolor": "white",
            "linecolor": "white",
            "ticks": ""
           },
           "bgcolor": "#E5ECF6",
           "caxis": {
            "gridcolor": "white",
            "linecolor": "white",
            "ticks": ""
           }
          },
          "title": {
           "x": 0.05
          },
          "xaxis": {
           "automargin": true,
           "gridcolor": "white",
           "linecolor": "white",
           "ticks": "",
           "title": {
            "standoff": 15
           },
           "zerolinecolor": "white",
           "zerolinewidth": 2
          },
          "yaxis": {
           "automargin": true,
           "gridcolor": "white",
           "linecolor": "white",
           "ticks": "",
           "title": {
            "standoff": 15
           },
           "zerolinecolor": "white",
           "zerolinewidth": 2
          }
         }
        },
        "title": {
         "text": "Line Plot of Calories burned through Exercise per Day"
        },
        "xaxis": {
         "anchor": "y",
         "domain": [
          0,
          1
         ],
         "title": {
          "text": "Date"
         }
        },
        "yaxis": {
         "anchor": "x",
         "domain": [
          0,
          1
         ],
         "title": {
          "text": "Calories burned through Exercise"
         }
        }
       }
      }
     },
     "metadata": {},
     "output_type": "display_data"
    }
   ],
   "source": [
    "fig = px.line(df, x=df.index, y='value', \n",
    "                 title='Line Plot of Calories burned through Exercise per Day')\n",
    "\n",
    "# Customize the layout\n",
    "fig.update_layout(\n",
    "    xaxis_title='Date',\n",
    "    yaxis_title='Calories burned through Exercise',\n",
    "    showlegend=False\n",
    ")\n",
    "\n",
    "# Display the plot\n",
    "fig.show()"
   ]
  },
  {
   "cell_type": "code",
   "execution_count": 92,
   "metadata": {},
   "outputs": [
    {
     "data": {
      "text/plain": [
       "count     122.000000\n",
       "mean      440.543639\n",
       "std       240.887977\n",
       "min         0.000000\n",
       "25%       271.934500\n",
       "50%       411.576000\n",
       "75%       587.592250\n",
       "max      1513.845000\n",
       "Name: value, dtype: float64"
      ]
     },
     "execution_count": 92,
     "metadata": {},
     "output_type": "execute_result"
    }
   ],
   "source": [
    "df['value'].describe()"
   ]
  },
  {
   "cell_type": "code",
   "execution_count": 93,
   "metadata": {},
   "outputs": [
    {
     "data": {
      "text/html": [
       "<div>\n",
       "<style scoped>\n",
       "    .dataframe tbody tr th:only-of-type {\n",
       "        vertical-align: middle;\n",
       "    }\n",
       "\n",
       "    .dataframe tbody tr th {\n",
       "        vertical-align: top;\n",
       "    }\n",
       "\n",
       "    .dataframe thead th {\n",
       "        text-align: right;\n",
       "    }\n",
       "</style>\n",
       "<table border=\"1\" class=\"dataframe\">\n",
       "  <thead>\n",
       "    <tr style=\"text-align: right;\">\n",
       "      <th></th>\n",
       "      <th>type</th>\n",
       "      <th>sourceName</th>\n",
       "      <th>sourceVersion</th>\n",
       "      <th>unit</th>\n",
       "      <th>creationDate</th>\n",
       "      <th>startDate</th>\n",
       "      <th>endDate</th>\n",
       "      <th>value</th>\n",
       "      <th>device</th>\n",
       "    </tr>\n",
       "  </thead>\n",
       "  <tbody>\n",
       "    <tr>\n",
       "      <th>2412858</th>\n",
       "      <td>TimeInDaylight</td>\n",
       "      <td>Carter’s Apple Watch</td>\n",
       "      <td>10.2</td>\n",
       "      <td>min</td>\n",
       "      <td>2023-12-21 16:32:48-07:00</td>\n",
       "      <td>2023-12-21 16:09:17-07:00</td>\n",
       "      <td>2023-12-21 16:14:17-07:00</td>\n",
       "      <td>4.0</td>\n",
       "      <td>&lt;&lt;HKDevice: 0x302f04f00&gt;, name:Apple Watch, ma...</td>\n",
       "    </tr>\n",
       "    <tr>\n",
       "      <th>2412859</th>\n",
       "      <td>TimeInDaylight</td>\n",
       "      <td>Carter’s Apple Watch</td>\n",
       "      <td>10.2</td>\n",
       "      <td>min</td>\n",
       "      <td>2023-12-21 17:15:21-07:00</td>\n",
       "      <td>2023-12-21 17:01:31-07:00</td>\n",
       "      <td>2023-12-21 17:06:31-07:00</td>\n",
       "      <td>5.0</td>\n",
       "      <td>&lt;&lt;HKDevice: 0x302f04f00&gt;, name:Apple Watch, ma...</td>\n",
       "    </tr>\n",
       "    <tr>\n",
       "      <th>2412860</th>\n",
       "      <td>TimeInDaylight</td>\n",
       "      <td>Carter’s Apple Watch</td>\n",
       "      <td>10.2</td>\n",
       "      <td>min</td>\n",
       "      <td>2023-12-21 17:15:21-07:00</td>\n",
       "      <td>2023-12-21 17:06:31-07:00</td>\n",
       "      <td>2023-12-21 17:11:31-07:00</td>\n",
       "      <td>5.0</td>\n",
       "      <td>&lt;&lt;HKDevice: 0x302f04f00&gt;, name:Apple Watch, ma...</td>\n",
       "    </tr>\n",
       "    <tr>\n",
       "      <th>2412861</th>\n",
       "      <td>TimeInDaylight</td>\n",
       "      <td>Carter’s Apple Watch</td>\n",
       "      <td>10.2</td>\n",
       "      <td>min</td>\n",
       "      <td>2023-12-21 17:21:31-07:00</td>\n",
       "      <td>2023-12-21 17:11:31-07:00</td>\n",
       "      <td>2023-12-21 17:16:31-07:00</td>\n",
       "      <td>5.0</td>\n",
       "      <td>&lt;&lt;HKDevice: 0x302f04f00&gt;, name:Apple Watch, ma...</td>\n",
       "    </tr>\n",
       "    <tr>\n",
       "      <th>2412862</th>\n",
       "      <td>TimeInDaylight</td>\n",
       "      <td>Carter’s Apple Watch</td>\n",
       "      <td>10.2</td>\n",
       "      <td>min</td>\n",
       "      <td>2023-12-21 17:27:38-07:00</td>\n",
       "      <td>2023-12-21 17:16:31-07:00</td>\n",
       "      <td>2023-12-21 17:21:31-07:00</td>\n",
       "      <td>5.0</td>\n",
       "      <td>&lt;&lt;HKDevice: 0x302f04f00&gt;, name:Apple Watch, ma...</td>\n",
       "    </tr>\n",
       "    <tr>\n",
       "      <th>...</th>\n",
       "      <td>...</td>\n",
       "      <td>...</td>\n",
       "      <td>...</td>\n",
       "      <td>...</td>\n",
       "      <td>...</td>\n",
       "      <td>...</td>\n",
       "      <td>...</td>\n",
       "      <td>...</td>\n",
       "      <td>...</td>\n",
       "    </tr>\n",
       "    <tr>\n",
       "      <th>2417201</th>\n",
       "      <td>TimeInDaylight</td>\n",
       "      <td>Carter’s Apple Watch</td>\n",
       "      <td>11.1</td>\n",
       "      <td>min</td>\n",
       "      <td>2024-10-15 15:03:55-07:00</td>\n",
       "      <td>2024-10-15 14:50:09-07:00</td>\n",
       "      <td>2024-10-15 14:55:09-07:00</td>\n",
       "      <td>3.0</td>\n",
       "      <td>&lt;&lt;HKDevice: 0x302f05ef0&gt;, name:Apple Watch, ma...</td>\n",
       "    </tr>\n",
       "    <tr>\n",
       "      <th>2417202</th>\n",
       "      <td>TimeInDaylight</td>\n",
       "      <td>Carter’s Apple Watch</td>\n",
       "      <td>11.1</td>\n",
       "      <td>min</td>\n",
       "      <td>2024-10-15 16:09:13-07:00</td>\n",
       "      <td>2024-10-15 15:58:57-07:00</td>\n",
       "      <td>2024-10-15 16:03:57-07:00</td>\n",
       "      <td>5.0</td>\n",
       "      <td>&lt;&lt;HKDevice: 0x302f05ef0&gt;, name:Apple Watch, ma...</td>\n",
       "    </tr>\n",
       "    <tr>\n",
       "      <th>2417203</th>\n",
       "      <td>TimeInDaylight</td>\n",
       "      <td>Carter’s Apple Watch</td>\n",
       "      <td>11.1</td>\n",
       "      <td>min</td>\n",
       "      <td>2024-10-15 16:13:58-07:00</td>\n",
       "      <td>2024-10-15 16:03:57-07:00</td>\n",
       "      <td>2024-10-15 16:08:57-07:00</td>\n",
       "      <td>5.0</td>\n",
       "      <td>&lt;&lt;HKDevice: 0x302f05ef0&gt;, name:Apple Watch, ma...</td>\n",
       "    </tr>\n",
       "    <tr>\n",
       "      <th>2417204</th>\n",
       "      <td>TimeInDaylight</td>\n",
       "      <td>Carter’s Apple Watch</td>\n",
       "      <td>11.1</td>\n",
       "      <td>min</td>\n",
       "      <td>2024-10-15 16:44:07-07:00</td>\n",
       "      <td>2024-10-15 16:27:56-07:00</td>\n",
       "      <td>2024-10-15 16:32:56-07:00</td>\n",
       "      <td>5.0</td>\n",
       "      <td>&lt;&lt;HKDevice: 0x302f05ef0&gt;, name:Apple Watch, ma...</td>\n",
       "    </tr>\n",
       "    <tr>\n",
       "      <th>2417205</th>\n",
       "      <td>TimeInDaylight</td>\n",
       "      <td>Carter’s Apple Watch</td>\n",
       "      <td>11.1</td>\n",
       "      <td>min</td>\n",
       "      <td>2024-10-15 16:44:07-07:00</td>\n",
       "      <td>2024-10-15 16:32:56-07:00</td>\n",
       "      <td>2024-10-15 16:37:56-07:00</td>\n",
       "      <td>2.0</td>\n",
       "      <td>&lt;&lt;HKDevice: 0x302f05ef0&gt;, name:Apple Watch, ma...</td>\n",
       "    </tr>\n",
       "  </tbody>\n",
       "</table>\n",
       "<p>4348 rows × 9 columns</p>\n",
       "</div>"
      ],
      "text/plain": [
       "                   type            sourceName sourceVersion unit  \\\n",
       "2412858  TimeInDaylight  Carter’s Apple Watch          10.2  min   \n",
       "2412859  TimeInDaylight  Carter’s Apple Watch          10.2  min   \n",
       "2412860  TimeInDaylight  Carter’s Apple Watch          10.2  min   \n",
       "2412861  TimeInDaylight  Carter’s Apple Watch          10.2  min   \n",
       "2412862  TimeInDaylight  Carter’s Apple Watch          10.2  min   \n",
       "...                 ...                   ...           ...  ...   \n",
       "2417201  TimeInDaylight  Carter’s Apple Watch          11.1  min   \n",
       "2417202  TimeInDaylight  Carter’s Apple Watch          11.1  min   \n",
       "2417203  TimeInDaylight  Carter’s Apple Watch          11.1  min   \n",
       "2417204  TimeInDaylight  Carter’s Apple Watch          11.1  min   \n",
       "2417205  TimeInDaylight  Carter’s Apple Watch          11.1  min   \n",
       "\n",
       "                     creationDate                 startDate  \\\n",
       "2412858 2023-12-21 16:32:48-07:00 2023-12-21 16:09:17-07:00   \n",
       "2412859 2023-12-21 17:15:21-07:00 2023-12-21 17:01:31-07:00   \n",
       "2412860 2023-12-21 17:15:21-07:00 2023-12-21 17:06:31-07:00   \n",
       "2412861 2023-12-21 17:21:31-07:00 2023-12-21 17:11:31-07:00   \n",
       "2412862 2023-12-21 17:27:38-07:00 2023-12-21 17:16:31-07:00   \n",
       "...                           ...                       ...   \n",
       "2417201 2024-10-15 15:03:55-07:00 2024-10-15 14:50:09-07:00   \n",
       "2417202 2024-10-15 16:09:13-07:00 2024-10-15 15:58:57-07:00   \n",
       "2417203 2024-10-15 16:13:58-07:00 2024-10-15 16:03:57-07:00   \n",
       "2417204 2024-10-15 16:44:07-07:00 2024-10-15 16:27:56-07:00   \n",
       "2417205 2024-10-15 16:44:07-07:00 2024-10-15 16:32:56-07:00   \n",
       "\n",
       "                          endDate  value  \\\n",
       "2412858 2023-12-21 16:14:17-07:00    4.0   \n",
       "2412859 2023-12-21 17:06:31-07:00    5.0   \n",
       "2412860 2023-12-21 17:11:31-07:00    5.0   \n",
       "2412861 2023-12-21 17:16:31-07:00    5.0   \n",
       "2412862 2023-12-21 17:21:31-07:00    5.0   \n",
       "...                           ...    ...   \n",
       "2417201 2024-10-15 14:55:09-07:00    3.0   \n",
       "2417202 2024-10-15 16:03:57-07:00    5.0   \n",
       "2417203 2024-10-15 16:08:57-07:00    5.0   \n",
       "2417204 2024-10-15 16:32:56-07:00    5.0   \n",
       "2417205 2024-10-15 16:37:56-07:00    2.0   \n",
       "\n",
       "                                                    device  \n",
       "2412858  <<HKDevice: 0x302f04f00>, name:Apple Watch, ma...  \n",
       "2412859  <<HKDevice: 0x302f04f00>, name:Apple Watch, ma...  \n",
       "2412860  <<HKDevice: 0x302f04f00>, name:Apple Watch, ma...  \n",
       "2412861  <<HKDevice: 0x302f04f00>, name:Apple Watch, ma...  \n",
       "2412862  <<HKDevice: 0x302f04f00>, name:Apple Watch, ma...  \n",
       "...                                                    ...  \n",
       "2417201  <<HKDevice: 0x302f05ef0>, name:Apple Watch, ma...  \n",
       "2417202  <<HKDevice: 0x302f05ef0>, name:Apple Watch, ma...  \n",
       "2417203  <<HKDevice: 0x302f05ef0>, name:Apple Watch, ma...  \n",
       "2417204  <<HKDevice: 0x302f05ef0>, name:Apple Watch, ma...  \n",
       "2417205  <<HKDevice: 0x302f05ef0>, name:Apple Watch, ma...  \n",
       "\n",
       "[4348 rows x 9 columns]"
      ]
     },
     "execution_count": 93,
     "metadata": {},
     "output_type": "execute_result"
    }
   ],
   "source": [
    "dl = record_data[record_data['type'] == 'TimeInDaylight']\n",
    "dl"
   ]
  },
  {
   "cell_type": "code",
   "execution_count": 98,
   "metadata": {},
   "outputs": [
    {
     "data": {
      "text/html": [
       "<div>\n",
       "<style scoped>\n",
       "    .dataframe tbody tr th:only-of-type {\n",
       "        vertical-align: middle;\n",
       "    }\n",
       "\n",
       "    .dataframe tbody tr th {\n",
       "        vertical-align: top;\n",
       "    }\n",
       "\n",
       "    .dataframe thead th {\n",
       "        text-align: right;\n",
       "    }\n",
       "</style>\n",
       "<table border=\"1\" class=\"dataframe\">\n",
       "  <thead>\n",
       "    <tr style=\"text-align: right;\">\n",
       "      <th></th>\n",
       "      <th>value</th>\n",
       "    </tr>\n",
       "    <tr>\n",
       "      <th>startDate</th>\n",
       "      <th></th>\n",
       "    </tr>\n",
       "  </thead>\n",
       "  <tbody>\n",
       "    <tr>\n",
       "      <th>2024-01-01 00:00:00-07:00</th>\n",
       "      <td>107.000000</td>\n",
       "    </tr>\n",
       "    <tr>\n",
       "      <th>2024-01-04 00:00:00-07:00</th>\n",
       "      <td>185.333333</td>\n",
       "    </tr>\n",
       "    <tr>\n",
       "      <th>2024-01-07 00:00:00-07:00</th>\n",
       "      <td>29.666667</td>\n",
       "    </tr>\n",
       "    <tr>\n",
       "      <th>2024-01-10 00:00:00-07:00</th>\n",
       "      <td>48.666667</td>\n",
       "    </tr>\n",
       "    <tr>\n",
       "      <th>2024-01-13 00:00:00-07:00</th>\n",
       "      <td>18.666667</td>\n",
       "    </tr>\n",
       "  </tbody>\n",
       "</table>\n",
       "</div>"
      ],
      "text/plain": [
       "                                value\n",
       "startDate                            \n",
       "2024-01-01 00:00:00-07:00  107.000000\n",
       "2024-01-04 00:00:00-07:00  185.333333\n",
       "2024-01-07 00:00:00-07:00   29.666667\n",
       "2024-01-10 00:00:00-07:00   48.666667\n",
       "2024-01-13 00:00:00-07:00   18.666667"
      ]
     },
     "execution_count": 98,
     "metadata": {},
     "output_type": "execute_result"
    }
   ],
   "source": [
    "# Filter rows for the second half of 2023\n",
    "df = (dl\n",
    "      [(dl['startDate'].dt.year == 2024) & (dl['startDate'].dt.month < 13)]\n",
    "      .set_index('startDate')\n",
    "      ['value']\n",
    "      .to_frame()\n",
    "      .resample('1D')\n",
    "      .sum()\n",
    "      .resample('3D')\n",
    "      .mean()\n",
    "      )\n",
    "df.head()"
   ]
  },
  {
   "cell_type": "code",
   "execution_count": 135,
   "metadata": {},
   "outputs": [],
   "source": [
    "# Filter rows for the second half of 2023\n",
    "df = (dl\n",
    "      [(dl['startDate'].dt.year == 2024)]\n",
    "      .set_index('startDate')\n",
    "      ['value']\n",
    "      .to_frame()\n",
    "      .resample('1D')\n",
    "      .sum()\n",
    "      .resample('2D')\n",
    "      .mean()\n",
    "      )\n",
    "df1 = (dl\n",
    "      [(dl['startDate'].dt.year == 2024)]\n",
    "      .set_index('startDate')\n",
    "      ['value']\n",
    "      .to_frame()\n",
    "      .resample('1D')\n",
    "      .sum()\n",
    "      .resample('ME')\n",
    "      .mean()\n",
    "      )"
   ]
  },
  {
   "cell_type": "code",
   "execution_count": 136,
   "metadata": {},
   "outputs": [
    {
     "data": {
      "application/vnd.plotly.v1+json": {
       "config": {
        "plotlyServerURL": "https://plot.ly"
       },
       "data": [
        {
         "line": {
          "color": "blue"
         },
         "mode": "lines",
         "name": "Daily Sunlight",
         "type": "scatter",
         "x": [
          "2024-01-01T00:00:00-07:00",
          "2024-01-03T00:00:00-07:00",
          "2024-01-05T00:00:00-07:00",
          "2024-01-07T00:00:00-07:00",
          "2024-01-09T00:00:00-07:00",
          "2024-01-11T00:00:00-07:00",
          "2024-01-13T00:00:00-07:00",
          "2024-01-15T00:00:00-07:00",
          "2024-01-17T00:00:00-07:00",
          "2024-01-19T00:00:00-07:00",
          "2024-01-21T00:00:00-07:00",
          "2024-01-23T00:00:00-07:00",
          "2024-01-25T00:00:00-07:00",
          "2024-01-27T00:00:00-07:00",
          "2024-01-29T00:00:00-07:00",
          "2024-01-31T00:00:00-07:00",
          "2024-02-02T00:00:00-07:00",
          "2024-02-04T00:00:00-07:00",
          "2024-02-06T00:00:00-07:00",
          "2024-02-08T00:00:00-07:00",
          "2024-02-10T00:00:00-07:00",
          "2024-02-12T00:00:00-07:00",
          "2024-02-14T00:00:00-07:00",
          "2024-02-16T00:00:00-07:00",
          "2024-02-18T00:00:00-07:00",
          "2024-02-20T00:00:00-07:00",
          "2024-02-22T00:00:00-07:00",
          "2024-02-24T00:00:00-07:00",
          "2024-02-26T00:00:00-07:00",
          "2024-02-28T00:00:00-07:00",
          "2024-03-01T00:00:00-07:00",
          "2024-03-03T00:00:00-07:00",
          "2024-03-05T00:00:00-07:00",
          "2024-03-07T00:00:00-07:00",
          "2024-03-09T00:00:00-07:00",
          "2024-03-11T00:00:00-07:00",
          "2024-03-13T00:00:00-07:00",
          "2024-03-15T00:00:00-07:00",
          "2024-03-17T00:00:00-07:00",
          "2024-03-19T00:00:00-07:00",
          "2024-03-21T00:00:00-07:00",
          "2024-03-23T00:00:00-07:00",
          "2024-03-25T00:00:00-07:00",
          "2024-03-27T00:00:00-07:00",
          "2024-03-29T00:00:00-07:00",
          "2024-03-31T00:00:00-07:00",
          "2024-04-02T00:00:00-07:00",
          "2024-04-04T00:00:00-07:00",
          "2024-04-06T00:00:00-07:00",
          "2024-04-08T00:00:00-07:00",
          "2024-04-10T00:00:00-07:00",
          "2024-04-12T00:00:00-07:00",
          "2024-04-14T00:00:00-07:00",
          "2024-04-16T00:00:00-07:00",
          "2024-04-18T00:00:00-07:00",
          "2024-04-20T00:00:00-07:00",
          "2024-04-22T00:00:00-07:00",
          "2024-04-24T00:00:00-07:00",
          "2024-04-26T00:00:00-07:00",
          "2024-04-28T00:00:00-07:00",
          "2024-04-30T00:00:00-07:00",
          "2024-05-02T00:00:00-07:00",
          "2024-05-04T00:00:00-07:00",
          "2024-05-06T00:00:00-07:00",
          "2024-05-08T00:00:00-07:00",
          "2024-05-10T00:00:00-07:00",
          "2024-05-12T00:00:00-07:00",
          "2024-05-14T00:00:00-07:00",
          "2024-05-16T00:00:00-07:00",
          "2024-05-18T00:00:00-07:00",
          "2024-05-20T00:00:00-07:00",
          "2024-05-22T00:00:00-07:00",
          "2024-05-24T00:00:00-07:00",
          "2024-05-26T00:00:00-07:00",
          "2024-05-28T00:00:00-07:00",
          "2024-05-30T00:00:00-07:00",
          "2024-06-01T00:00:00-07:00",
          "2024-06-03T00:00:00-07:00",
          "2024-06-05T00:00:00-07:00",
          "2024-06-07T00:00:00-07:00",
          "2024-06-09T00:00:00-07:00",
          "2024-06-11T00:00:00-07:00",
          "2024-06-13T00:00:00-07:00",
          "2024-06-15T00:00:00-07:00",
          "2024-06-17T00:00:00-07:00",
          "2024-06-19T00:00:00-07:00",
          "2024-06-21T00:00:00-07:00",
          "2024-06-23T00:00:00-07:00",
          "2024-06-25T00:00:00-07:00",
          "2024-06-27T00:00:00-07:00",
          "2024-06-29T00:00:00-07:00",
          "2024-07-01T00:00:00-07:00",
          "2024-07-03T00:00:00-07:00",
          "2024-07-05T00:00:00-07:00",
          "2024-07-07T00:00:00-07:00",
          "2024-07-09T00:00:00-07:00",
          "2024-07-11T00:00:00-07:00",
          "2024-07-13T00:00:00-07:00",
          "2024-07-15T00:00:00-07:00",
          "2024-07-17T00:00:00-07:00",
          "2024-07-19T00:00:00-07:00",
          "2024-07-21T00:00:00-07:00",
          "2024-07-23T00:00:00-07:00",
          "2024-07-25T00:00:00-07:00",
          "2024-07-27T00:00:00-07:00",
          "2024-07-29T00:00:00-07:00",
          "2024-07-31T00:00:00-07:00",
          "2024-08-02T00:00:00-07:00",
          "2024-08-04T00:00:00-07:00",
          "2024-08-06T00:00:00-07:00",
          "2024-08-08T00:00:00-07:00",
          "2024-08-10T00:00:00-07:00",
          "2024-08-12T00:00:00-07:00",
          "2024-08-14T00:00:00-07:00",
          "2024-08-16T00:00:00-07:00",
          "2024-08-18T00:00:00-07:00",
          "2024-08-20T00:00:00-07:00",
          "2024-08-22T00:00:00-07:00",
          "2024-08-24T00:00:00-07:00",
          "2024-08-26T00:00:00-07:00",
          "2024-08-28T00:00:00-07:00",
          "2024-08-30T00:00:00-07:00",
          "2024-09-01T00:00:00-07:00",
          "2024-09-03T00:00:00-07:00",
          "2024-09-05T00:00:00-07:00",
          "2024-09-07T00:00:00-07:00",
          "2024-09-09T00:00:00-07:00",
          "2024-09-11T00:00:00-07:00",
          "2024-09-13T00:00:00-07:00",
          "2024-09-15T00:00:00-07:00",
          "2024-09-17T00:00:00-07:00",
          "2024-09-19T00:00:00-07:00",
          "2024-09-21T00:00:00-07:00",
          "2024-09-23T00:00:00-07:00",
          "2024-09-25T00:00:00-07:00",
          "2024-09-27T00:00:00-07:00",
          "2024-09-29T00:00:00-07:00",
          "2024-10-01T00:00:00-07:00",
          "2024-10-03T00:00:00-07:00",
          "2024-10-05T00:00:00-07:00",
          "2024-10-07T00:00:00-07:00",
          "2024-10-09T00:00:00-07:00",
          "2024-10-11T00:00:00-07:00",
          "2024-10-13T00:00:00-07:00",
          "2024-10-15T00:00:00-07:00"
         ],
         "y": [
          103,
          191.5,
          144,
          19,
          53.5,
          45,
          28,
          92.5,
          87,
          22.5,
          2.5,
          58.5,
          52.5,
          182.5,
          128.5,
          30.5,
          9,
          4,
          14,
          37,
          45.5,
          59.5,
          41.5,
          27,
          46.5,
          11,
          41,
          5.5,
          98,
          41.5,
          21,
          62.5,
          11,
          100,
          315.5,
          75,
          50.5,
          56,
          23,
          25.5,
          30.5,
          110.5,
          91.5,
          36,
          123.5,
          72.5,
          46,
          61.5,
          38,
          97.5,
          78,
          83.5,
          88,
          61,
          67,
          87,
          35,
          104.5,
          46,
          77,
          64.5,
          74.5,
          105,
          61.5,
          94,
          86,
          200.5,
          82,
          103.5,
          119,
          161,
          92.5,
          41,
          65,
          89,
          163.5,
          256,
          150.5,
          49.5,
          61,
          107,
          14.5,
          74,
          37.5,
          49.5,
          14.5,
          39,
          16,
          13,
          29,
          44.5,
          216,
          41.5,
          232.5,
          33,
          37,
          21,
          20.5,
          29.5,
          49,
          21.5,
          13,
          3,
          17.5,
          55,
          37.5,
          17.5,
          99.5,
          58,
          242,
          132,
          8.5,
          15.5,
          11.5,
          198,
          11.5,
          15.5,
          2.5,
          8,
          48,
          52.5,
          10,
          5.5,
          5.5,
          15.5,
          6,
          1,
          14,
          2,
          1,
          88,
          34.5,
          69,
          58,
          85.5,
          104,
          40,
          162,
          65,
          49,
          35.5,
          79.5,
          67,
          49.5,
          60
         ]
        },
        {
         "line": {
          "color": "red"
         },
         "mode": "lines",
         "name": "Monthly Average",
         "type": "scatter",
         "x": [
          "2024-01-31T00:00:00-07:00",
          "2024-02-29T00:00:00-07:00",
          "2024-03-31T00:00:00-07:00",
          "2024-04-30T00:00:00-07:00",
          "2024-05-31T00:00:00-07:00",
          "2024-06-30T00:00:00-07:00",
          "2024-07-31T00:00:00-07:00",
          "2024-08-31T00:00:00-07:00",
          "2024-09-30T00:00:00-07:00",
          "2024-10-31T00:00:00-07:00"
         ],
         "y": [
          80.06451612903226,
          33.172413793103445,
          75.90322580645162,
          67.63333333333334,
          102.3225806451613,
          63.7,
          53.774193548387096,
          59.645161290322584,
          35.3,
          71.66666666666667
         ]
        }
       ],
       "layout": {
        "legend": {
         "title": {
          "text": "Functions"
         }
        },
        "template": {
         "data": {
          "bar": [
           {
            "error_x": {
             "color": "#2a3f5f"
            },
            "error_y": {
             "color": "#2a3f5f"
            },
            "marker": {
             "line": {
              "color": "#E5ECF6",
              "width": 0.5
             },
             "pattern": {
              "fillmode": "overlay",
              "size": 10,
              "solidity": 0.2
             }
            },
            "type": "bar"
           }
          ],
          "barpolar": [
           {
            "marker": {
             "line": {
              "color": "#E5ECF6",
              "width": 0.5
             },
             "pattern": {
              "fillmode": "overlay",
              "size": 10,
              "solidity": 0.2
             }
            },
            "type": "barpolar"
           }
          ],
          "carpet": [
           {
            "aaxis": {
             "endlinecolor": "#2a3f5f",
             "gridcolor": "white",
             "linecolor": "white",
             "minorgridcolor": "white",
             "startlinecolor": "#2a3f5f"
            },
            "baxis": {
             "endlinecolor": "#2a3f5f",
             "gridcolor": "white",
             "linecolor": "white",
             "minorgridcolor": "white",
             "startlinecolor": "#2a3f5f"
            },
            "type": "carpet"
           }
          ],
          "choropleth": [
           {
            "colorbar": {
             "outlinewidth": 0,
             "ticks": ""
            },
            "type": "choropleth"
           }
          ],
          "contour": [
           {
            "colorbar": {
             "outlinewidth": 0,
             "ticks": ""
            },
            "colorscale": [
             [
              0,
              "#0d0887"
             ],
             [
              0.1111111111111111,
              "#46039f"
             ],
             [
              0.2222222222222222,
              "#7201a8"
             ],
             [
              0.3333333333333333,
              "#9c179e"
             ],
             [
              0.4444444444444444,
              "#bd3786"
             ],
             [
              0.5555555555555556,
              "#d8576b"
             ],
             [
              0.6666666666666666,
              "#ed7953"
             ],
             [
              0.7777777777777778,
              "#fb9f3a"
             ],
             [
              0.8888888888888888,
              "#fdca26"
             ],
             [
              1,
              "#f0f921"
             ]
            ],
            "type": "contour"
           }
          ],
          "contourcarpet": [
           {
            "colorbar": {
             "outlinewidth": 0,
             "ticks": ""
            },
            "type": "contourcarpet"
           }
          ],
          "heatmap": [
           {
            "colorbar": {
             "outlinewidth": 0,
             "ticks": ""
            },
            "colorscale": [
             [
              0,
              "#0d0887"
             ],
             [
              0.1111111111111111,
              "#46039f"
             ],
             [
              0.2222222222222222,
              "#7201a8"
             ],
             [
              0.3333333333333333,
              "#9c179e"
             ],
             [
              0.4444444444444444,
              "#bd3786"
             ],
             [
              0.5555555555555556,
              "#d8576b"
             ],
             [
              0.6666666666666666,
              "#ed7953"
             ],
             [
              0.7777777777777778,
              "#fb9f3a"
             ],
             [
              0.8888888888888888,
              "#fdca26"
             ],
             [
              1,
              "#f0f921"
             ]
            ],
            "type": "heatmap"
           }
          ],
          "heatmapgl": [
           {
            "colorbar": {
             "outlinewidth": 0,
             "ticks": ""
            },
            "colorscale": [
             [
              0,
              "#0d0887"
             ],
             [
              0.1111111111111111,
              "#46039f"
             ],
             [
              0.2222222222222222,
              "#7201a8"
             ],
             [
              0.3333333333333333,
              "#9c179e"
             ],
             [
              0.4444444444444444,
              "#bd3786"
             ],
             [
              0.5555555555555556,
              "#d8576b"
             ],
             [
              0.6666666666666666,
              "#ed7953"
             ],
             [
              0.7777777777777778,
              "#fb9f3a"
             ],
             [
              0.8888888888888888,
              "#fdca26"
             ],
             [
              1,
              "#f0f921"
             ]
            ],
            "type": "heatmapgl"
           }
          ],
          "histogram": [
           {
            "marker": {
             "pattern": {
              "fillmode": "overlay",
              "size": 10,
              "solidity": 0.2
             }
            },
            "type": "histogram"
           }
          ],
          "histogram2d": [
           {
            "colorbar": {
             "outlinewidth": 0,
             "ticks": ""
            },
            "colorscale": [
             [
              0,
              "#0d0887"
             ],
             [
              0.1111111111111111,
              "#46039f"
             ],
             [
              0.2222222222222222,
              "#7201a8"
             ],
             [
              0.3333333333333333,
              "#9c179e"
             ],
             [
              0.4444444444444444,
              "#bd3786"
             ],
             [
              0.5555555555555556,
              "#d8576b"
             ],
             [
              0.6666666666666666,
              "#ed7953"
             ],
             [
              0.7777777777777778,
              "#fb9f3a"
             ],
             [
              0.8888888888888888,
              "#fdca26"
             ],
             [
              1,
              "#f0f921"
             ]
            ],
            "type": "histogram2d"
           }
          ],
          "histogram2dcontour": [
           {
            "colorbar": {
             "outlinewidth": 0,
             "ticks": ""
            },
            "colorscale": [
             [
              0,
              "#0d0887"
             ],
             [
              0.1111111111111111,
              "#46039f"
             ],
             [
              0.2222222222222222,
              "#7201a8"
             ],
             [
              0.3333333333333333,
              "#9c179e"
             ],
             [
              0.4444444444444444,
              "#bd3786"
             ],
             [
              0.5555555555555556,
              "#d8576b"
             ],
             [
              0.6666666666666666,
              "#ed7953"
             ],
             [
              0.7777777777777778,
              "#fb9f3a"
             ],
             [
              0.8888888888888888,
              "#fdca26"
             ],
             [
              1,
              "#f0f921"
             ]
            ],
            "type": "histogram2dcontour"
           }
          ],
          "mesh3d": [
           {
            "colorbar": {
             "outlinewidth": 0,
             "ticks": ""
            },
            "type": "mesh3d"
           }
          ],
          "parcoords": [
           {
            "line": {
             "colorbar": {
              "outlinewidth": 0,
              "ticks": ""
             }
            },
            "type": "parcoords"
           }
          ],
          "pie": [
           {
            "automargin": true,
            "type": "pie"
           }
          ],
          "scatter": [
           {
            "fillpattern": {
             "fillmode": "overlay",
             "size": 10,
             "solidity": 0.2
            },
            "type": "scatter"
           }
          ],
          "scatter3d": [
           {
            "line": {
             "colorbar": {
              "outlinewidth": 0,
              "ticks": ""
             }
            },
            "marker": {
             "colorbar": {
              "outlinewidth": 0,
              "ticks": ""
             }
            },
            "type": "scatter3d"
           }
          ],
          "scattercarpet": [
           {
            "marker": {
             "colorbar": {
              "outlinewidth": 0,
              "ticks": ""
             }
            },
            "type": "scattercarpet"
           }
          ],
          "scattergeo": [
           {
            "marker": {
             "colorbar": {
              "outlinewidth": 0,
              "ticks": ""
             }
            },
            "type": "scattergeo"
           }
          ],
          "scattergl": [
           {
            "marker": {
             "colorbar": {
              "outlinewidth": 0,
              "ticks": ""
             }
            },
            "type": "scattergl"
           }
          ],
          "scattermapbox": [
           {
            "marker": {
             "colorbar": {
              "outlinewidth": 0,
              "ticks": ""
             }
            },
            "type": "scattermapbox"
           }
          ],
          "scatterpolar": [
           {
            "marker": {
             "colorbar": {
              "outlinewidth": 0,
              "ticks": ""
             }
            },
            "type": "scatterpolar"
           }
          ],
          "scatterpolargl": [
           {
            "marker": {
             "colorbar": {
              "outlinewidth": 0,
              "ticks": ""
             }
            },
            "type": "scatterpolargl"
           }
          ],
          "scatterternary": [
           {
            "marker": {
             "colorbar": {
              "outlinewidth": 0,
              "ticks": ""
             }
            },
            "type": "scatterternary"
           }
          ],
          "surface": [
           {
            "colorbar": {
             "outlinewidth": 0,
             "ticks": ""
            },
            "colorscale": [
             [
              0,
              "#0d0887"
             ],
             [
              0.1111111111111111,
              "#46039f"
             ],
             [
              0.2222222222222222,
              "#7201a8"
             ],
             [
              0.3333333333333333,
              "#9c179e"
             ],
             [
              0.4444444444444444,
              "#bd3786"
             ],
             [
              0.5555555555555556,
              "#d8576b"
             ],
             [
              0.6666666666666666,
              "#ed7953"
             ],
             [
              0.7777777777777778,
              "#fb9f3a"
             ],
             [
              0.8888888888888888,
              "#fdca26"
             ],
             [
              1,
              "#f0f921"
             ]
            ],
            "type": "surface"
           }
          ],
          "table": [
           {
            "cells": {
             "fill": {
              "color": "#EBF0F8"
             },
             "line": {
              "color": "white"
             }
            },
            "header": {
             "fill": {
              "color": "#C8D4E3"
             },
             "line": {
              "color": "white"
             }
            },
            "type": "table"
           }
          ]
         },
         "layout": {
          "annotationdefaults": {
           "arrowcolor": "#2a3f5f",
           "arrowhead": 0,
           "arrowwidth": 1
          },
          "autotypenumbers": "strict",
          "coloraxis": {
           "colorbar": {
            "outlinewidth": 0,
            "ticks": ""
           }
          },
          "colorscale": {
           "diverging": [
            [
             0,
             "#8e0152"
            ],
            [
             0.1,
             "#c51b7d"
            ],
            [
             0.2,
             "#de77ae"
            ],
            [
             0.3,
             "#f1b6da"
            ],
            [
             0.4,
             "#fde0ef"
            ],
            [
             0.5,
             "#f7f7f7"
            ],
            [
             0.6,
             "#e6f5d0"
            ],
            [
             0.7,
             "#b8e186"
            ],
            [
             0.8,
             "#7fbc41"
            ],
            [
             0.9,
             "#4d9221"
            ],
            [
             1,
             "#276419"
            ]
           ],
           "sequential": [
            [
             0,
             "#0d0887"
            ],
            [
             0.1111111111111111,
             "#46039f"
            ],
            [
             0.2222222222222222,
             "#7201a8"
            ],
            [
             0.3333333333333333,
             "#9c179e"
            ],
            [
             0.4444444444444444,
             "#bd3786"
            ],
            [
             0.5555555555555556,
             "#d8576b"
            ],
            [
             0.6666666666666666,
             "#ed7953"
            ],
            [
             0.7777777777777778,
             "#fb9f3a"
            ],
            [
             0.8888888888888888,
             "#fdca26"
            ],
            [
             1,
             "#f0f921"
            ]
           ],
           "sequentialminus": [
            [
             0,
             "#0d0887"
            ],
            [
             0.1111111111111111,
             "#46039f"
            ],
            [
             0.2222222222222222,
             "#7201a8"
            ],
            [
             0.3333333333333333,
             "#9c179e"
            ],
            [
             0.4444444444444444,
             "#bd3786"
            ],
            [
             0.5555555555555556,
             "#d8576b"
            ],
            [
             0.6666666666666666,
             "#ed7953"
            ],
            [
             0.7777777777777778,
             "#fb9f3a"
            ],
            [
             0.8888888888888888,
             "#fdca26"
            ],
            [
             1,
             "#f0f921"
            ]
           ]
          },
          "colorway": [
           "#636efa",
           "#EF553B",
           "#00cc96",
           "#ab63fa",
           "#FFA15A",
           "#19d3f3",
           "#FF6692",
           "#B6E880",
           "#FF97FF",
           "#FECB52"
          ],
          "font": {
           "color": "#2a3f5f"
          },
          "geo": {
           "bgcolor": "white",
           "lakecolor": "white",
           "landcolor": "#E5ECF6",
           "showlakes": true,
           "showland": true,
           "subunitcolor": "white"
          },
          "hoverlabel": {
           "align": "left"
          },
          "hovermode": "closest",
          "mapbox": {
           "style": "light"
          },
          "paper_bgcolor": "white",
          "plot_bgcolor": "#E5ECF6",
          "polar": {
           "angularaxis": {
            "gridcolor": "white",
            "linecolor": "white",
            "ticks": ""
           },
           "bgcolor": "#E5ECF6",
           "radialaxis": {
            "gridcolor": "white",
            "linecolor": "white",
            "ticks": ""
           }
          },
          "scene": {
           "xaxis": {
            "backgroundcolor": "#E5ECF6",
            "gridcolor": "white",
            "gridwidth": 2,
            "linecolor": "white",
            "showbackground": true,
            "ticks": "",
            "zerolinecolor": "white"
           },
           "yaxis": {
            "backgroundcolor": "#E5ECF6",
            "gridcolor": "white",
            "gridwidth": 2,
            "linecolor": "white",
            "showbackground": true,
            "ticks": "",
            "zerolinecolor": "white"
           },
           "zaxis": {
            "backgroundcolor": "#E5ECF6",
            "gridcolor": "white",
            "gridwidth": 2,
            "linecolor": "white",
            "showbackground": true,
            "ticks": "",
            "zerolinecolor": "white"
           }
          },
          "shapedefaults": {
           "line": {
            "color": "#2a3f5f"
           }
          },
          "ternary": {
           "aaxis": {
            "gridcolor": "white",
            "linecolor": "white",
            "ticks": ""
           },
           "baxis": {
            "gridcolor": "white",
            "linecolor": "white",
            "ticks": ""
           },
           "bgcolor": "#E5ECF6",
           "caxis": {
            "gridcolor": "white",
            "linecolor": "white",
            "ticks": ""
           }
          },
          "title": {
           "x": 0.05
          },
          "xaxis": {
           "automargin": true,
           "gridcolor": "white",
           "linecolor": "white",
           "ticks": "",
           "title": {
            "standoff": 15
           },
           "zerolinecolor": "white",
           "zerolinewidth": 2
          },
          "yaxis": {
           "automargin": true,
           "gridcolor": "white",
           "linecolor": "white",
           "ticks": "",
           "title": {
            "standoff": 15
           },
           "zerolinecolor": "white",
           "zerolinewidth": 2
          }
         }
        },
        "title": {
         "text": "Daily Time Spent in Sunlight"
        },
        "xaxis": {
         "title": {
          "text": "Date"
         }
        },
        "yaxis": {
         "title": {
          "text": "Time Spent (Minutes)"
         }
        }
       }
      }
     },
     "metadata": {},
     "output_type": "display_data"
    }
   ],
   "source": [
    "import plotly.graph_objs as go\n",
    "import numpy as np\n",
    "\n",
    "# Create the first line plot\n",
    "line1 = go.Scatter(\n",
    "    x=df.index,\n",
    "    y=df['value'],\n",
    "    mode='lines',\n",
    "    name='Daily Sunlight',\n",
    "    line=dict(color='blue')\n",
    ")\n",
    "\n",
    "# Create the second line plot\n",
    "line2 = go.Scatter(\n",
    "    x=df1.index,\n",
    "    y=df1['value'],\n",
    "    mode='lines',\n",
    "    name='Monthly Average',\n",
    "    line=dict(color='red')\n",
    ")\n",
    "\n",
    "# Combine the plots into a figure\n",
    "fig = go.Figure(data=[line1, line2])\n",
    "\n",
    "# Update layout\n",
    "fig.update_layout(\n",
    "    title='Daily Time Spent in Sunlight',\n",
    "    xaxis_title='Date',\n",
    "    yaxis_title='Time Spent (Minutes)',\n",
    "    legend_title='Functions'\n",
    ")\n",
    "\n",
    "# Show the plot\n",
    "fig.show()\n"
   ]
  },
  {
   "cell_type": "code",
   "execution_count": null,
   "metadata": {},
   "outputs": [],
   "source": []
  },
  {
   "cell_type": "code",
   "execution_count": null,
   "metadata": {},
   "outputs": [],
   "source": []
  }
 ],
 "metadata": {
  "kernelspec": {
   "display_name": "base",
   "language": "python",
   "name": "python3"
  },
  "language_info": {
   "codemirror_mode": {
    "name": "ipython",
    "version": 3
   },
   "file_extension": ".py",
   "mimetype": "text/x-python",
   "name": "python",
   "nbconvert_exporter": "python",
   "pygments_lexer": "ipython3",
   "version": "3.12.4"
  }
 },
 "nbformat": 4,
 "nbformat_minor": 2
}
