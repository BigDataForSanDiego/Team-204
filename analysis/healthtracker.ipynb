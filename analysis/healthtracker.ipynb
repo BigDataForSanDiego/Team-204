{
 "cells": [
  {
   "cell_type": "code",
   "execution_count": 2,
   "metadata": {},
   "outputs": [],
   "source": [
    "import xml.etree.ElementTree as ET\n",
    "import pandas as pd\n",
    "import datetime as dt\n",
    "import matplotlib.pyplot as plt\n",
    "\n",
    "plt.style.use(\"fivethirtyeight\")\n",
    "\n",
    "# create element tree object\n",
    "tree = ET.parse('data/carterhealthdata.xml')\n",
    "\n",
    "# for every health data record, extract the attributes\n",
    "root = tree.getroot()\n",
    "\n",
    "record_list = [x.attrib for x in root.iter('Record')]"
   ]
  },
  {
   "cell_type": "code",
   "execution_count": 3,
   "metadata": {},
   "outputs": [
    {
     "data": {
      "text/html": [
       "<div>\n",
       "<style scoped>\n",
       "    .dataframe tbody tr th:only-of-type {\n",
       "        vertical-align: middle;\n",
       "    }\n",
       "\n",
       "    .dataframe tbody tr th {\n",
       "        vertical-align: top;\n",
       "    }\n",
       "\n",
       "    .dataframe thead th {\n",
       "        text-align: right;\n",
       "    }\n",
       "</style>\n",
       "<table border=\"1\" class=\"dataframe\">\n",
       "  <thead>\n",
       "    <tr style=\"text-align: right;\">\n",
       "      <th></th>\n",
       "      <th>type</th>\n",
       "      <th>sourceName</th>\n",
       "      <th>sourceVersion</th>\n",
       "      <th>unit</th>\n",
       "      <th>creationDate</th>\n",
       "      <th>startDate</th>\n",
       "      <th>endDate</th>\n",
       "      <th>value</th>\n",
       "      <th>device</th>\n",
       "    </tr>\n",
       "  </thead>\n",
       "  <tbody>\n",
       "    <tr>\n",
       "      <th>2584192</th>\n",
       "      <td>HeartRateVariabilitySDNN</td>\n",
       "      <td>Carter’s Apple Watch</td>\n",
       "      <td>11.1</td>\n",
       "      <td>ms</td>\n",
       "      <td>2024-10-14 23:41:23-07:00</td>\n",
       "      <td>2024-10-14 23:40:22-07:00</td>\n",
       "      <td>2024-10-14 23:41:22-07:00</td>\n",
       "      <td>43.1274</td>\n",
       "      <td>&lt;&lt;HKDevice: 0x302fcbc50&gt;, name:Apple Watch, ma...</td>\n",
       "    </tr>\n",
       "    <tr>\n",
       "      <th>2584193</th>\n",
       "      <td>HeartRateVariabilitySDNN</td>\n",
       "      <td>Carter’s Apple Watch</td>\n",
       "      <td>11.1</td>\n",
       "      <td>ms</td>\n",
       "      <td>2024-10-15 03:20:06-07:00</td>\n",
       "      <td>2024-10-15 03:19:06-07:00</td>\n",
       "      <td>2024-10-15 03:20:05-07:00</td>\n",
       "      <td>17.9547</td>\n",
       "      <td>&lt;&lt;HKDevice: 0x302fcbc50&gt;, name:Apple Watch, ma...</td>\n",
       "    </tr>\n",
       "    <tr>\n",
       "      <th>2584194</th>\n",
       "      <td>HeartRateVariabilitySDNN</td>\n",
       "      <td>Carter’s Apple Watch</td>\n",
       "      <td>11.1</td>\n",
       "      <td>ms</td>\n",
       "      <td>2024-10-15 07:20:09-07:00</td>\n",
       "      <td>2024-10-15 07:19:08-07:00</td>\n",
       "      <td>2024-10-15 07:20:07-07:00</td>\n",
       "      <td>29.6792</td>\n",
       "      <td>&lt;&lt;HKDevice: 0x302fcbc50&gt;, name:Apple Watch, ma...</td>\n",
       "    </tr>\n",
       "    <tr>\n",
       "      <th>2584195</th>\n",
       "      <td>HeartRateVariabilitySDNN</td>\n",
       "      <td>Carter’s Apple Watch</td>\n",
       "      <td>11.1</td>\n",
       "      <td>ms</td>\n",
       "      <td>2024-10-15 11:23:25-07:00</td>\n",
       "      <td>2024-10-15 11:22:24-07:00</td>\n",
       "      <td>2024-10-15 11:23:24-07:00</td>\n",
       "      <td>49.3019</td>\n",
       "      <td>&lt;&lt;HKDevice: 0x302fcbc50&gt;, name:Apple Watch, ma...</td>\n",
       "    </tr>\n",
       "    <tr>\n",
       "      <th>2584196</th>\n",
       "      <td>HeartRateVariabilitySDNN</td>\n",
       "      <td>Carter’s Apple Watch</td>\n",
       "      <td>11.1</td>\n",
       "      <td>ms</td>\n",
       "      <td>2024-10-15 15:24:30-07:00</td>\n",
       "      <td>2024-10-15 15:23:29-07:00</td>\n",
       "      <td>2024-10-15 15:24:29-07:00</td>\n",
       "      <td>33.6185</td>\n",
       "      <td>&lt;&lt;HKDevice: 0x302fcbc50&gt;, name:Apple Watch, ma...</td>\n",
       "    </tr>\n",
       "  </tbody>\n",
       "</table>\n",
       "</div>"
      ],
      "text/plain": [
       "                             type            sourceName sourceVersion unit  \\\n",
       "2584192  HeartRateVariabilitySDNN  Carter’s Apple Watch          11.1   ms   \n",
       "2584193  HeartRateVariabilitySDNN  Carter’s Apple Watch          11.1   ms   \n",
       "2584194  HeartRateVariabilitySDNN  Carter’s Apple Watch          11.1   ms   \n",
       "2584195  HeartRateVariabilitySDNN  Carter’s Apple Watch          11.1   ms   \n",
       "2584196  HeartRateVariabilitySDNN  Carter’s Apple Watch          11.1   ms   \n",
       "\n",
       "                     creationDate                 startDate  \\\n",
       "2584192 2024-10-14 23:41:23-07:00 2024-10-14 23:40:22-07:00   \n",
       "2584193 2024-10-15 03:20:06-07:00 2024-10-15 03:19:06-07:00   \n",
       "2584194 2024-10-15 07:20:09-07:00 2024-10-15 07:19:08-07:00   \n",
       "2584195 2024-10-15 11:23:25-07:00 2024-10-15 11:22:24-07:00   \n",
       "2584196 2024-10-15 15:24:30-07:00 2024-10-15 15:23:29-07:00   \n",
       "\n",
       "                          endDate    value  \\\n",
       "2584192 2024-10-14 23:41:22-07:00  43.1274   \n",
       "2584193 2024-10-15 03:20:05-07:00  17.9547   \n",
       "2584194 2024-10-15 07:20:07-07:00  29.6792   \n",
       "2584195 2024-10-15 11:23:24-07:00  49.3019   \n",
       "2584196 2024-10-15 15:24:29-07:00  33.6185   \n",
       "\n",
       "                                                    device  \n",
       "2584192  <<HKDevice: 0x302fcbc50>, name:Apple Watch, ma...  \n",
       "2584193  <<HKDevice: 0x302fcbc50>, name:Apple Watch, ma...  \n",
       "2584194  <<HKDevice: 0x302fcbc50>, name:Apple Watch, ma...  \n",
       "2584195  <<HKDevice: 0x302fcbc50>, name:Apple Watch, ma...  \n",
       "2584196  <<HKDevice: 0x302fcbc50>, name:Apple Watch, ma...  "
      ]
     },
     "execution_count": 3,
     "metadata": {},
     "output_type": "execute_result"
    }
   ],
   "source": [
    "record_data = pd.DataFrame(record_list)\n",
    "for col in ['creationDate', 'startDate', 'endDate']:\n",
    "    record_data[col] = pd.to_datetime(record_data[col])\n",
    "\n",
    "# value is numeric, NaN if fails\n",
    "record_data['value'] = pd.to_numeric(record_data['value'], errors='coerce')\n",
    "\n",
    "# some records do not measure anything, just count occurences\n",
    "# filling with 1.0 (= one time) makes it easier to aggregate\n",
    "record_data['value'] = record_data['value'].fillna(1.0)\n",
    "\n",
    "# shorter observation names\n",
    "record_data['type'] = record_data['type'].str.replace('HKQuantityTypeIdentifier', '')\n",
    "record_data['type'] = record_data['type'].str.replace('HKCategoryTypeIdentifier', '')\n",
    "\n",
    "record_data.tail()"
   ]
  },
  {
   "cell_type": "code",
   "execution_count": 4,
   "metadata": {},
   "outputs": [
    {
     "data": {
      "text/plain": [
       "2584197"
      ]
     },
     "execution_count": 4,
     "metadata": {},
     "output_type": "execute_result"
    }
   ],
   "source": [
    "list_of_information = list(record_data['type'].unique())\n",
    "list_of_information\n",
    "record_data.shape[0]"
   ]
  },
  {
   "cell_type": "code",
   "execution_count": 5,
   "metadata": {},
   "outputs": [],
   "source": [
    "record_data.to_csv('data/carter_health_data.csv', index=False)"
   ]
  },
  {
   "cell_type": "code",
   "execution_count": null,
   "metadata": {},
   "outputs": [],
   "source": []
  }
 ],
 "metadata": {
  "kernelspec": {
   "display_name": "dsc80",
   "language": "python",
   "name": "python3"
  },
  "language_info": {
   "codemirror_mode": {
    "name": "ipython",
    "version": 3
   },
   "file_extension": ".py",
   "mimetype": "text/x-python",
   "name": "python",
   "nbconvert_exporter": "python",
   "pygments_lexer": "ipython3",
   "version": "3.12.6"
  }
 },
 "nbformat": 4,
 "nbformat_minor": 2
}
